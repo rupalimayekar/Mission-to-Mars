{
 "cells": [
  {
   "cell_type": "markdown",
   "metadata": {},
   "source": [
    "# Mission to Mars\n",
    "\n",
    "This notebook is designed to scrape various websites to gather information about the planet Mars. This information is related to the latest news on Mars, weather, pictures, etc. The gathered information is saved into data abjects for use later when they will all be displayed on a webpage."
   ]
  },
  {
   "cell_type": "code",
   "execution_count": 1,
   "metadata": {
    "collapsed": true
   },
   "outputs": [],
   "source": [
    "import pandas as pd\n",
    "import requests as req\n",
    "from splinter import Browser\n",
    "from bs4 import BeautifulSoup as bs\n",
    "import time"
   ]
  },
  {
   "cell_type": "code",
   "execution_count": 17,
   "metadata": {
    "collapsed": true
   },
   "outputs": [],
   "source": [
    "# Use splinter with the chrome browser to scrape all the data\n",
    "executable_path = {'executable_path': '/usr/local.bin.chromedriver'}\n",
    "browser = Browser('chrome', headless=False)"
   ]
  },
  {
   "cell_type": "markdown",
   "metadata": {},
   "source": [
    "## Scraping the NASA Mars website for the latest news on Mars\n",
    "We will scrape the following NASA website for the latest news about the planet Mars. https://mars.nasa.gov/news/\n",
    "\n",
    "We will just get the latest news title and description and save it for later."
   ]
  },
  {
   "cell_type": "code",
   "execution_count": 18,
   "metadata": {},
   "outputs": [],
   "source": [
    "# Tell the browser to visit the NASA news website\n",
    "nasa_news_url = \"https://mars.nasa.gov/news/\"\n",
    "browser.visit(nasa_news_url)\n",
    "\n",
    "# Extract the html from the webpage using BeautifulSoup\n",
    "soup = bs(browser.html, 'html.parser')"
   ]
  },
  {
   "cell_type": "code",
   "execution_count": 7,
   "metadata": {},
   "outputs": [
    {
     "name": "stdout",
     "output_type": "stream",
     "text": [
      "News Description : On May 5, millions of Californians may witness the historic first interplanetary launch from America’s West Coast.\n",
      "\n",
      "News Title : Bound for Mars: Countdown to First Interplanetary Launch from California\n"
     ]
    }
   ],
   "source": [
    "# Look for the first div tag with the class \"image_and_description_container\" to get the \n",
    "# latest news\n",
    "news_result = soup.find('div', class_='image_and_description_container')\n",
    "\n",
    "\n",
    "# Get the description from the latest news\n",
    "description = news_result.find('div', class_='rollover_description_inner').text.strip()\n",
    "print(\"News Description : \" + description)\n",
    "\n",
    "# Get the title from the latest news\n",
    "news_result = soup.find('div', class_='content_title')\n",
    "title = news_result.find('a').text.strip()\n",
    "print(\"\\nNews Title : \" + title)\n"
   ]
  },
  {
   "cell_type": "markdown",
   "metadata": {},
   "source": [
    "## JPL Mars Space Image\n",
    "\n",
    "Now we visit the following website: https://www.jpl.nasa.gov/spaceimages/?search=&category=Mars\n",
    "\n",
    "We will get the url to the current featured Image on Mars from this website. We need to get the largesize image so we will navigate as specified below:\n",
    "\n",
    "* Click on the button named \"FULL IMAGE\" on the main page featured image. We get to the images page\n",
    "* Click on the button named \"more info\" for the featured image on the images page. We get to the Image Details page. This still displays the medium sized image.\n",
    "* Click on the actual image link on this image on the Image Details page to get to the actual large size image. Now we will get the full url to the large image."
   ]
  },
  {
   "cell_type": "code",
   "execution_count": 8,
   "metadata": {
    "collapsed": true,
    "scrolled": false
   },
   "outputs": [],
   "source": [
    "jpl_url = \"https://www.jpl.nasa.gov/spaceimages/?search=&category=Mars\"\n",
    "\n",
    "# Use splinter to visit the JPL website\n",
    "browser.visit(jpl_url)\n",
    "\n",
    "# Click on the button on top of the featured image. It saya \"FULL IMAGE\". Then wait for 5 seconds\n",
    "browser.click_link_by_partial_text('FULL IMAGE')\n",
    "time.sleep(5)\n",
    "\n",
    "# This is the link to the mediumsize image. We need the largesize image\n",
    "# Now click on the button that says \"more info\"\n",
    "browser.click_link_by_partial_text('more info')\n",
    "time.sleep(5)\n",
    "\n",
    "# This is the medium size image too. We need to click on this image link that has the largesize image\n",
    "links = browser.find_link_by_partial_href('/spaceimages/images/largesize/')\n",
    "links.first.click()\n",
    "time.sleep(5)"
   ]
  },
  {
   "cell_type": "code",
   "execution_count": 9,
   "metadata": {},
   "outputs": [
    {
     "name": "stdout",
     "output_type": "stream",
     "text": [
      "<html xmlns=\"http://www.w3.org/1999/xhtml\">\n",
      " <head>\n",
      "  <meta content=\"width=device-width, minimum-scale=0.1\" name=\"viewport\"/>\n",
      "  <title>\n",
      "   PIA16567_hires.jpg (1345×1024)\n",
      "  </title>\n",
      " </head>\n",
      " <body style=\"margin: 0px; background: #0e0e0e;\">\n",
      "  <img height=\"615\" src=\"https://www.jpl.nasa.gov/spaceimages/images/largesize/PIA16567_hires.jpg\" style=\"-webkit-user-select: none;cursor: zoom-in;\" width=\"807\"/>\n",
      " </body>\n",
      "</html>\n"
     ]
    }
   ],
   "source": [
    "# print the contents of this page. This is the large image\n",
    "soup = bs(browser.html, 'html.parser')\n",
    "print(soup.prettify())"
   ]
  },
  {
   "cell_type": "code",
   "execution_count": 10,
   "metadata": {},
   "outputs": [
    {
     "name": "stdout",
     "output_type": "stream",
     "text": [
      "Featured Image URL : https://www.jpl.nasa.gov/spaceimages/images/largesize/PIA16567_hires.jpg\n"
     ]
    }
   ],
   "source": [
    "# We now have the complete url for the largesize image. Extract the url\n",
    "featured_image_url = soup.find('img').get('src')\n",
    "print(\"Featured Image URL : \" + featured_image_url)"
   ]
  },
  {
   "cell_type": "markdown",
   "metadata": {
    "collapsed": true
   },
   "source": [
    "## Getting the Mars Weather\n",
    "We will now visit the Mars weather twitter page at : https://twitter.com/marswxreport?lang=en\n",
    "\n",
    "Here we will get the latest weather on Mars. We will extract the latest tweet here."
   ]
  },
  {
   "cell_type": "code",
   "execution_count": 11,
   "metadata": {
    "collapsed": true
   },
   "outputs": [],
   "source": [
    "# Visit the mars weather twitter page\n",
    "mars_weather_url = 'https://twitter.com/marswxreport?lang=en'\n",
    "browser.visit(mars_weather_url)\n",
    "time.sleep(5)"
   ]
  },
  {
   "cell_type": "code",
   "execution_count": 12,
   "metadata": {},
   "outputs": [
    {
     "name": "stdout",
     "output_type": "stream",
     "text": [
      "Mars Weather : Sol 2024 (April 16, 2018), Sunny, high -7C/19F, low -76C/-104F, pressure at 7.20 hPa, daylight 05:26-17:21\n"
     ]
    }
   ],
   "source": [
    "# Extract the latest tweet\n",
    "soup = bs(browser.html, 'html.parser')\n",
    "mars_weather = soup.find('p', class_='TweetTextSize').text\n",
    "print(\"Mars Weather : \" + mars_weather)"
   ]
  },
  {
   "cell_type": "markdown",
   "metadata": {},
   "source": [
    "## Getting Mars Facts\n",
    "Next we will visit the following website: https://space-facts.com/mars/\n",
    "\n",
    "Here we will get the facts on Mars from the main page. This is in the form of a table, so we will use Pandas to extract the table from the page."
   ]
  },
  {
   "cell_type": "code",
   "execution_count": 13,
   "metadata": {},
   "outputs": [
    {
     "data": {
      "text/html": [
       "<div>\n",
       "<style>\n",
       "    .dataframe thead tr:only-child th {\n",
       "        text-align: right;\n",
       "    }\n",
       "\n",
       "    .dataframe thead th {\n",
       "        text-align: left;\n",
       "    }\n",
       "\n",
       "    .dataframe tbody tr th {\n",
       "        vertical-align: top;\n",
       "    }\n",
       "</style>\n",
       "<table border=\"1\" class=\"dataframe\">\n",
       "  <thead>\n",
       "    <tr style=\"text-align: right;\">\n",
       "      <th></th>\n",
       "      <th>Fact</th>\n",
       "      <th>Value</th>\n",
       "    </tr>\n",
       "  </thead>\n",
       "  <tbody>\n",
       "    <tr>\n",
       "      <th>0</th>\n",
       "      <td>Equatorial Diameter:</td>\n",
       "      <td>6,792 km</td>\n",
       "    </tr>\n",
       "    <tr>\n",
       "      <th>1</th>\n",
       "      <td>Polar Diameter:</td>\n",
       "      <td>6,752 km</td>\n",
       "    </tr>\n",
       "    <tr>\n",
       "      <th>2</th>\n",
       "      <td>Mass:</td>\n",
       "      <td>6.42 x 10^23 kg (10.7% Earth)</td>\n",
       "    </tr>\n",
       "    <tr>\n",
       "      <th>3</th>\n",
       "      <td>Moons:</td>\n",
       "      <td>2 (Phobos &amp; Deimos)</td>\n",
       "    </tr>\n",
       "    <tr>\n",
       "      <th>4</th>\n",
       "      <td>Orbit Distance:</td>\n",
       "      <td>227,943,824 km (1.52 AU)</td>\n",
       "    </tr>\n",
       "    <tr>\n",
       "      <th>5</th>\n",
       "      <td>Orbit Period:</td>\n",
       "      <td>687 days (1.9 years)</td>\n",
       "    </tr>\n",
       "    <tr>\n",
       "      <th>6</th>\n",
       "      <td>Surface Temperature:</td>\n",
       "      <td>-153 to 20 °C</td>\n",
       "    </tr>\n",
       "    <tr>\n",
       "      <th>7</th>\n",
       "      <td>First Record:</td>\n",
       "      <td>2nd millennium BC</td>\n",
       "    </tr>\n",
       "    <tr>\n",
       "      <th>8</th>\n",
       "      <td>Recorded By:</td>\n",
       "      <td>Egyptian astronomers</td>\n",
       "    </tr>\n",
       "  </tbody>\n",
       "</table>\n",
       "</div>"
      ],
      "text/plain": [
       "                   Fact                          Value\n",
       "0  Equatorial Diameter:                       6,792 km\n",
       "1       Polar Diameter:                       6,752 km\n",
       "2                 Mass:  6.42 x 10^23 kg (10.7% Earth)\n",
       "3                Moons:            2 (Phobos & Deimos)\n",
       "4       Orbit Distance:       227,943,824 km (1.52 AU)\n",
       "5         Orbit Period:           687 days (1.9 years)\n",
       "6  Surface Temperature:                  -153 to 20 °C\n",
       "7         First Record:              2nd millennium BC\n",
       "8          Recorded By:           Egyptian astronomers"
      ]
     },
     "execution_count": 13,
     "metadata": {},
     "output_type": "execute_result"
    }
   ],
   "source": [
    "# Read the html for the Mars facts webpage and extract the first table from the list\n",
    "mars_facts_url = \"https://space-facts.com/mars/\"\n",
    "df = pd.read_html(mars_facts_url)[0]\n",
    "\n",
    "# Change the column names to something meaningful\n",
    "df.rename(columns={0:\"Fact\", 1:\"Value\"},  inplace=True)\n",
    "df"
   ]
  },
  {
   "cell_type": "code",
   "execution_count": 14,
   "metadata": {},
   "outputs": [
    {
     "data": {
      "text/plain": [
       "'<table border=\"1\" class=\"dataframe\">\\n  <thead>\\n    <tr style=\"text-align: right;\">\\n      <th>Fact</th>\\n      <th>Value</th>\\n    </tr>\\n  </thead>\\n  <tbody>\\n    <tr>\\n      <td>Equatorial Diameter:</td>\\n      <td>6,792 km</td>\\n    </tr>\\n    <tr>\\n      <td>Polar Diameter:</td>\\n      <td>6,752 km</td>\\n    </tr>\\n    <tr>\\n      <td>Mass:</td>\\n      <td>6.42 x 10^23 kg (10.7% Earth)</td>\\n    </tr>\\n    <tr>\\n      <td>Moons:</td>\\n      <td>2 (Phobos &amp; Deimos)</td>\\n    </tr>\\n    <tr>\\n      <td>Orbit Distance:</td>\\n      <td>227,943,824 km (1.52 AU)</td>\\n    </tr>\\n    <tr>\\n      <td>Orbit Period:</td>\\n      <td>687 days (1.9 years)</td>\\n    </tr>\\n    <tr>\\n      <td>Surface Temperature:</td>\\n      <td>-153 to 20 °C</td>\\n    </tr>\\n    <tr>\\n      <td>First Record:</td>\\n      <td>2nd millennium BC</td>\\n    </tr>\\n    <tr>\\n      <td>Recorded By:</td>\\n      <td>Egyptian astronomers</td>\\n    </tr>\\n  </tbody>\\n</table>'"
      ]
     },
     "execution_count": 14,
     "metadata": {},
     "output_type": "execute_result"
    }
   ],
   "source": [
    "# Convert the dataframe into an html table\n",
    "html = df.to_html(header=True, index=False, border=\"1\")\n",
    "html"
   ]
  },
  {
   "cell_type": "markdown",
   "metadata": {},
   "source": [
    "## Mars Hemispheres\n",
    "\n",
    "Next we will visit this website: https://astrogeology.usgs.gov/search/results?q=hemisphere+enhanced&k1=target&v1=Mars\n",
    "\n",
    "Here we will get the urls for the pictures of the 4 hemispheres of Mars. We need to click on the link to each hemisphere, extract the image url, click the Back button, and repeat the same for the remaining 3 hemispheres."
   ]
  },
  {
   "cell_type": "code",
   "execution_count": 15,
   "metadata": {},
   "outputs": [
    {
     "name": "stdout",
     "output_type": "stream",
     "text": [
      "Cerberus Hemisphere Enhanced\n",
      "https://astrogeology.usgs.gov/cache/images/cfa62af2557222a02478f1fcd781d445_cerberus_enhanced.tif_full.jpg\n",
      "===============================\n",
      "Schiaparelli Hemisphere Enhanced\n",
      "https://astrogeology.usgs.gov/cache/images/3cdd1cbf5e0813bba925c9030d13b62e_schiaparelli_enhanced.tif_full.jpg\n",
      "===============================\n",
      "Syrtis Major Hemisphere Enhanced\n",
      "https://astrogeology.usgs.gov/cache/images/ae209b4e408bb6c3e67b6af38168cf28_syrtis_major_enhanced.tif_full.jpg\n",
      "===============================\n",
      "Valles Marineris Hemisphere Enhanced\n",
      "https://astrogeology.usgs.gov/cache/images/7cf2da4bf549ed01c17f206327be4db7_valles_marineris_enhanced.tif_full.jpg\n",
      "===============================\n"
     ]
    }
   ],
   "source": [
    "# Webpage and webpage root\n",
    "mars_hem_url = \"https://astrogeology.usgs.gov/search/results?q=hemisphere+enhanced&k1=target&v1=Mars\"\n",
    "mars_hem_url_root = \"https://astrogeology.usgs.gov\"\n",
    "\n",
    "# Visit the page and extract the div tag which has a list of hemisphere images\n",
    "browser.visit(mars_hem_url)\n",
    "time.sleep(2)\n",
    "soup = bs(browser.html, 'html.parser')\n",
    "items = soup.find_all('div', class_='item')\n",
    "\n",
    "# List to store all hemisphere names and image urls\n",
    "hemispheres = []\n",
    "\n",
    "# Loop through the list items and extract each image url and title\n",
    "for item in items:\n",
    "        # The title is in an h3 tag\n",
    "        title = item.find('h3').text\n",
    "        print(title)\n",
    "        \n",
    "        # Click on the title to get to the page where we will get the full image url\n",
    "        links = browser.find_link_by_partial_text(title)\n",
    "        links.first.click()\n",
    "        time.sleep(2)\n",
    "        \n",
    "        # Get the relative image url and append it to the website root\n",
    "        soup = bs(browser.html, 'html.parser')\n",
    "        image_url = soup.find(\"img\", class_=\"wide-image\").get('src')\n",
    "        full_image_url = mars_hem_url_root + image_url\n",
    "        print(full_image_url)\n",
    "        print(\"===============================\")\n",
    "        \n",
    "        # Click on the back button to go back so we can navigate to the next image\n",
    "        links = browser.find_link_by_partial_text(\"Back\")\n",
    "        links.first.click()\n",
    "        \n",
    "        # Save the title and url as a dict into the hemispheres list\n",
    "        hemispheres.append({\"title\":title, \"img_url\":full_image_url})\n"
   ]
  },
  {
   "cell_type": "code",
   "execution_count": null,
   "metadata": {
    "collapsed": true
   },
   "outputs": [],
   "source": []
  }
 ],
 "metadata": {
  "kernelspec": {
   "display_name": "Python 3",
   "language": "python",
   "name": "python3"
  },
  "language_info": {
   "codemirror_mode": {
    "name": "ipython",
    "version": 3
   },
   "file_extension": ".py",
   "mimetype": "text/x-python",
   "name": "python",
   "nbconvert_exporter": "python",
   "pygments_lexer": "ipython3",
   "version": "3.6.2"
  }
 },
 "nbformat": 4,
 "nbformat_minor": 2
}
